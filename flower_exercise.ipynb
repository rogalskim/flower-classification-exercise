{
 "cells": [
  {
   "cell_type": "code",
   "execution_count": 26,
   "metadata": {},
   "outputs": [],
   "source": [
    "from shutil import copy\n",
    "from os import listdir, mkdir\n",
    "from os.path import splitext"
   ]
  },
  {
   "cell_type": "markdown",
   "metadata": {},
   "source": [
    "### 1. Prepare the Data\n",
    "The used dataset doesn't contain any explicit category labels. However, the source images are sorted by category, with each of the 17 categories having exactly 80 images. Therefore we can label the images by simply counting them. The code assumes the raw images are placed into \"data/jpg\" directory. It creates new \"data/categories\" directory and then one subdir for each category, containing copied images belonging to that category. Each subdir is named by category index (0 to 16)."
   ]
  },
  {
   "cell_type": "code",
   "execution_count": 12,
   "metadata": {},
   "outputs": [],
   "source": [
    "def is_file_jpg(file_path: str) -> bool:\n",
    "    path_root, extension = splitext(file_path)\n",
    "    return extension.lower() == \".jpg\""
   ]
  },
  {
   "cell_type": "code",
   "execution_count": 19,
   "metadata": {},
   "outputs": [],
   "source": [
    "raw_data_path = \"data/jpg\"\n",
    "category_count = 17\n",
    "images_per_category = 80\n",
    "image_list = [file for file in listdir(raw_data_path) if is_file_jpg(file)]\n",
    "assert len(image_list) == category_count * images_per_category"
   ]
  },
  {
   "cell_type": "code",
   "execution_count": 28,
   "metadata": {},
   "outputs": [],
   "source": [
    "def create_category_directories(image_list: list, category_count: int, images_per_category: int, raw_data_path: str) -> None:\n",
    "    category_root_dir = \"data/categories\"\n",
    "    mkdir(category_root_dir)\n",
    "    \n",
    "    for category_index in range(category_count):\n",
    "        category_path = f\"{category_root_dir}/{category_index}\"\n",
    "        mkdir(category_path)\n",
    "        \n",
    "        first_image_in_category = category_index * images_per_category\n",
    "        last_image_in_category = first_image_in_category + images_per_category\n",
    "        \n",
    "        for image in image_list[first_image_in_category:last_image_in_category]:\n",
    "            source_path = f\"{raw_data_path}/{image}\"\n",
    "            destination = f\"{category_path}/{image}\"\n",
    "            copy(source_path, destination)\n",
    "        \n",
    "\n",
    "create_category_directories(image_list, category_count, images_per_category, raw_data_path)"
   ]
  }
 ],
 "metadata": {
  "kernelspec": {
   "display_name": "Python 3",
   "language": "python",
   "name": "python3"
  },
  "language_info": {
   "codemirror_mode": {
    "name": "ipython",
    "version": 3
   },
   "file_extension": ".py",
   "mimetype": "text/x-python",
   "name": "python",
   "nbconvert_exporter": "python",
   "pygments_lexer": "ipython3",
   "version": "3.8.5"
  }
 },
 "nbformat": 4,
 "nbformat_minor": 4
}
