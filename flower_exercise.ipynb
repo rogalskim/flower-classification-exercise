{
 "cells": [
  {
   "cell_type": "code",
   "execution_count": 63,
   "metadata": {},
   "outputs": [],
   "source": [
    "from shutil import copy\n",
    "from os import listdir, makedirs\n",
    "from os.path import isdir, join, splitext\n",
    "\n",
    "from torchvision.datasets import ImageFolder"
   ]
  },
  {
   "cell_type": "markdown",
   "metadata": {},
   "source": [
    "### 1. Divide the Dataset into Categories\n",
    "The used dataset doesn't contain any explicit category labels. However, the source images are sorted by category, with each of the 17 categories having exactly 80 images. Therefore we can label the images by simply counting them. The code assumes the raw images are placed into _data/jpg_ directory. It splits the data into training, validation and testing subsets, then creates a subdirectory for each subset in _data_ dir. In each of those, another set of subdirs is created -- one for each category, named after the category index (0 through 16) and flower images from that category are copied inside. The number of copied files for each subset is defined in the _subset_splits_ dict."
   ]
  },
  {
   "cell_type": "code",
   "execution_count": 12,
   "metadata": {},
   "outputs": [],
   "source": [
    "def is_file_jpg(file_path: str) -> bool:\n",
    "    path_root, extension = splitext(file_path)\n",
    "    return extension.lower() == \".jpg\""
   ]
  },
  {
   "cell_type": "code",
   "execution_count": 45,
   "metadata": {},
   "outputs": [
    {
     "data": {
      "text/plain": [
       "['image_0001.jpg',\n",
       " 'image_0002.jpg',\n",
       " 'image_0003.jpg',\n",
       " 'image_0004.jpg',\n",
       " 'image_0005.jpg',\n",
       " 'image_0006.jpg',\n",
       " 'image_0007.jpg',\n",
       " 'image_0008.jpg',\n",
       " 'image_0009.jpg',\n",
       " 'image_0010.jpg']"
      ]
     },
     "execution_count": 45,
     "metadata": {},
     "output_type": "execute_result"
    }
   ],
   "source": [
    "raw_data_path = \"data/jpg\"\n",
    "category_count = 17\n",
    "images_per_category = 80\n",
    "\n",
    "# How many images in each category should fall into a data subset\n",
    "subset_splits = {\"training\": 56, \"validation\": 16, \"testing\": 8}\n",
    "assert sum(subset_splits.values()) == images_per_category\n",
    "\n",
    "image_list = [file for file in listdir(raw_data_path) if is_file_jpg(file)]\n",
    "assert len(image_list) == category_count * images_per_category\n",
    "image_list[:10]"
   ]
  },
  {
   "cell_type": "code",
   "execution_count": 60,
   "metadata": {},
   "outputs": [],
   "source": [
    "def assign_images_to_categories(category_count: int, images_per_category: int, images: list) -> dict:\n",
    "    categories = {}\n",
    "    for category_index in range(category_count):\n",
    "        first_image_in_category = category_index * images_per_category\n",
    "        last_image_in_category = first_image_in_category + images_per_category\n",
    "        categories[category_index] = images[first_image_in_category:last_image_in_category]\n",
    "    return categories\n",
    "        \n",
    "\n",
    "category_dict = assign_images_to_categories(category_count, images_per_category, image_list)\n",
    "\n",
    "assert len(category_dict.keys()) == category_count\n",
    "assert len(category_dict[category_count - 1]) == images_per_category"
   ]
  },
  {
   "cell_type": "code",
   "execution_count": 69,
   "metadata": {},
   "outputs": [],
   "source": [
    "def split_data_into_subsets(category_dict: dict, subset_splits: dict) -> (dict, dict, dict):\n",
    "    train, valid, test = {}, {}, {}\n",
    "    first_validation_image = subset_splits[\"training\"]\n",
    "    first_testing_image = first_validation_image + subset_splits[\"validation\"]\n",
    "    \n",
    "    for cat_index, cat_images  in category_dict.items():\n",
    "        train[cat_index] = cat_images[:first_validation_image]\n",
    "        valid[cat_index] = cat_images[first_validation_image:first_testing_image]\n",
    "        test[cat_index] = cat_images[first_testing_image:]\n",
    "    \n",
    "    return train, valid, test\n",
    "    \n",
    "    \n",
    "training_images, validation_images, testing_images = split_data_into_subsets(category_dict, subset_splits)\n",
    "\n",
    "assert len(training_images.keys()) == len(validation_images.keys()) == len(testing_images.keys()) == category_count\n",
    "assert len(training_images[10]) == subset_splits[\"training\"]\n",
    "assert len(validation_images[4]) == subset_splits[\"validation\"]\n",
    "assert len(testing_images[16]) == subset_splits[\"testing\"]"
   ]
  },
  {
   "cell_type": "code",
   "execution_count": 68,
   "metadata": {},
   "outputs": [],
   "source": [
    "def create_directory(path: str) -> None:\n",
    "    if not isdir(path):\n",
    "        makedirs(path)\n",
    "        \n",
    "\n",
    "def create_subset_data_directories(subset_dict: dict, subset_name: str, raw_data_path: str) -> None:\n",
    "    subset_dir_path = join(\"data\", subset_name)\n",
    "    create_directory(subset_dir_path)\n",
    "    \n",
    "    for category_index, category_images in subset_dict.items():\n",
    "        category_path = join(subset_dir_path, str(category_index))\n",
    "        create_directory(category_path)\n",
    "        \n",
    "        for image in category_images:\n",
    "            source_path = join(raw_data_path, image)\n",
    "            destination = join(category_path, image)\n",
    "            copy(source_path, destination)\n",
    "        \n",
    "\n",
    "create_subset_data_directories(training_images, \"training\", raw_data_path)\n",
    "create_subset_data_directories(validation_images, \"validation\", raw_data_path)\n",
    "create_subset_data_directories(testing_images, \"testing\", raw_data_path)"
   ]
  },
  {
   "cell_type": "markdown",
   "metadata": {},
   "source": [
    "### 2. Pre-process Data and Load into Data Loaders"
   ]
  }
 ],
 "metadata": {
  "kernelspec": {
   "display_name": "Python 3",
   "language": "python",
   "name": "python3"
  },
  "language_info": {
   "codemirror_mode": {
    "name": "ipython",
    "version": 3
   },
   "file_extension": ".py",
   "mimetype": "text/x-python",
   "name": "python",
   "nbconvert_exporter": "python",
   "pygments_lexer": "ipython3",
   "version": "3.8.5"
  }
 },
 "nbformat": 4,
 "nbformat_minor": 4
}
